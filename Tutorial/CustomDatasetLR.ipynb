{
  "nbformat": 4,
  "nbformat_minor": 0,
  "metadata": {
    "colab": {
      "name": "Untitled10.ipynb",
      "provenance": [],
      "authorship_tag": "ABX9TyM/CZ+jKPFeeuPyospGReXg",
      "include_colab_link": true
    },
    "kernelspec": {
      "name": "python3",
      "display_name": "Python 3"
    },
    "language_info": {
      "name": "python"
    }
  },
  "cells": [
    {
      "cell_type": "markdown",
      "metadata": {
        "id": "view-in-github",
        "colab_type": "text"
      },
      "source": [
        "<a href=\"https://colab.research.google.com/github/Suyoung-Min/Pytorch-Tutorial/blob/main/Tutorial/CustomDatasetLR.ipynb\" target=\"_parent\"><img src=\"https://colab.research.google.com/assets/colab-badge.svg\" alt=\"Open In Colab\"/></a>"
      ]
    },
    {
      "cell_type": "code",
      "source": [
        "import torch\n",
        "import torch.nn.functional as F\n",
        "from torch.utils.data import Dataset\n",
        "from torch.utils.data import DataLoader"
      ],
      "metadata": {
        "id": "gMlRgftxBfoj"
      },
      "execution_count": 9,
      "outputs": []
    },
    {
      "cell_type": "code",
      "source": [
        "class CustomDataset(Dataset):\n",
        "  def __init__(self):\n",
        "    self.x_data = [[73, 80, 75],\n",
        "                   [93, 88, 93],\n",
        "                   [89, 91, 90],\n",
        "                   [96, 98, 100],\n",
        "                   [73, 66, 70]]\n",
        "    self.y_data = [[152], [185], [180], [196], [142]]\n",
        "  \n",
        "  def __len__(self):\n",
        "    return len(self.x_data)\n",
        "\n",
        "  def __getitem__(self,idx):\n",
        "    x = torch.FloatTensor(self.x_data[idx])\n",
        "    y = torch.FloatTensor(self.y_data[idx])\n",
        "    return x,y"
      ],
      "metadata": {
        "id": "mY0lyCjcLwVH"
      },
      "execution_count": 10,
      "outputs": []
    },
    {
      "cell_type": "code",
      "source": [
        "dataset = CustomDataset()\n",
        "dataloader = DataLoader(dataset, batch_size= 2, shuffle= True)"
      ],
      "metadata": {
        "id": "IoMYjJDyMG4M"
      },
      "execution_count": 11,
      "outputs": []
    },
    {
      "cell_type": "code",
      "source": [
        "model = torch.nn.Linear(3,1)\n",
        "optimizer = torch.optim.SGD(model.parameters(), lr= 1e-5)"
      ],
      "metadata": {
        "id": "H8xAmCc2MQrc"
      },
      "execution_count": 12,
      "outputs": []
    },
    {
      "cell_type": "code",
      "source": [
        "nb_epochs = 20\n",
        "for epoch in range(nb_epochs + 1):\n",
        "  for batch_idx, samples in enumerate(dataloader):\n",
        "\n",
        "    x_train, y_train = samples\n",
        "    \n",
        "    prediction = model(x_train)\n",
        "\n",
        "    cost = F.mse_loss(prediction,y_train)\n",
        "\n",
        "    optimizer.zero_grad()\n",
        "    cost.backward()\n",
        "    optimizer.step()\n",
        "\n",
        "    print('Epoch {:4d}/{} Batch {}/{} Cost: {:.6f}'.format(\n",
        "        epoch, nb_epochs, batch_idx+1, len(dataloader),\n",
        "        cost.item()\n",
        "        ))"
      ],
      "metadata": {
        "colab": {
          "base_uri": "https://localhost:8080/"
        },
        "id": "w-y2A2CCMY8p",
        "outputId": "c9feb0fc-729c-460f-d6e0-c22fb95c1f44"
      },
      "execution_count": 13,
      "outputs": [
        {
          "output_type": "stream",
          "name": "stdout",
          "text": [
            "Epoch    0/20 Batch 1/3 Cost: 10416.648438\n",
            "Epoch    0/20 Batch 2/3 Cost: 7422.782227\n",
            "Epoch    0/20 Batch 3/3 Cost: 1968.558350\n",
            "Epoch    1/20 Batch 1/3 Cost: 334.734314\n",
            "Epoch    1/20 Batch 2/3 Cost: 97.835098\n",
            "Epoch    1/20 Batch 3/3 Cost: 74.823448\n",
            "Epoch    2/20 Batch 1/3 Cost: 0.257564\n",
            "Epoch    2/20 Batch 2/3 Cost: 19.240755\n",
            "Epoch    2/20 Batch 3/3 Cost: 13.214184\n",
            "Epoch    3/20 Batch 1/3 Cost: 11.345718\n",
            "Epoch    3/20 Batch 2/3 Cost: 4.148205\n",
            "Epoch    3/20 Batch 3/3 Cost: 9.726659\n",
            "Epoch    4/20 Batch 1/3 Cost: 5.674698\n",
            "Epoch    4/20 Batch 2/3 Cost: 11.568478\n",
            "Epoch    4/20 Batch 3/3 Cost: 7.608223\n",
            "Epoch    5/20 Batch 1/3 Cost: 12.626405\n",
            "Epoch    5/20 Batch 2/3 Cost: 5.167348\n",
            "Epoch    5/20 Batch 3/3 Cost: 14.352486\n",
            "Epoch    6/20 Batch 1/3 Cost: 6.651523\n",
            "Epoch    6/20 Batch 2/3 Cost: 13.384670\n",
            "Epoch    6/20 Batch 3/3 Cost: 7.496346\n",
            "Epoch    7/20 Batch 1/3 Cost: 4.526216\n",
            "Epoch    7/20 Batch 2/3 Cost: 11.354496\n",
            "Epoch    7/20 Batch 3/3 Cost: 10.236465\n",
            "Epoch    8/20 Batch 1/3 Cost: 1.589975\n",
            "Epoch    8/20 Batch 2/3 Cost: 20.780027\n",
            "Epoch    8/20 Batch 3/3 Cost: 10.103718\n",
            "Epoch    9/20 Batch 1/3 Cost: 16.216444\n",
            "Epoch    9/20 Batch 2/3 Cost: 11.704624\n",
            "Epoch    9/20 Batch 3/3 Cost: 0.899105\n",
            "Epoch   10/20 Batch 1/3 Cost: 19.004055\n",
            "Epoch   10/20 Batch 2/3 Cost: 8.069875\n",
            "Epoch   10/20 Batch 3/3 Cost: 3.059724\n",
            "Epoch   11/20 Batch 1/3 Cost: 1.073244\n",
            "Epoch   11/20 Batch 2/3 Cost: 9.144271\n",
            "Epoch   11/20 Batch 3/3 Cost: 23.002983\n",
            "Epoch   12/20 Batch 1/3 Cost: 6.837125\n",
            "Epoch   12/20 Batch 2/3 Cost: 15.787205\n",
            "Epoch   12/20 Batch 3/3 Cost: 6.495436\n",
            "Epoch   13/20 Batch 1/3 Cost: 6.578849\n",
            "Epoch   13/20 Batch 2/3 Cost: 4.653870\n",
            "Epoch   13/20 Batch 3/3 Cost: 26.983028\n",
            "Epoch   14/20 Batch 1/3 Cost: 9.178108\n",
            "Epoch   14/20 Batch 2/3 Cost: 6.870825\n",
            "Epoch   14/20 Batch 3/3 Cost: 8.119491\n",
            "Epoch   15/20 Batch 1/3 Cost: 6.197279\n",
            "Epoch   15/20 Batch 2/3 Cost: 4.881219\n",
            "Epoch   15/20 Batch 3/3 Cost: 26.644695\n",
            "Epoch   16/20 Batch 1/3 Cost: 4.088261\n",
            "Epoch   16/20 Batch 2/3 Cost: 11.775946\n",
            "Epoch   16/20 Batch 3/3 Cost: 8.741959\n",
            "Epoch   17/20 Batch 1/3 Cost: 0.976766\n",
            "Epoch   17/20 Batch 2/3 Cost: 14.859745\n",
            "Epoch   17/20 Batch 3/3 Cost: 10.277613\n",
            "Epoch   18/20 Batch 1/3 Cost: 11.721722\n",
            "Epoch   18/20 Batch 2/3 Cost: 7.875578\n",
            "Epoch   18/20 Batch 3/3 Cost: 9.421010\n",
            "Epoch   19/20 Batch 1/3 Cost: 11.288967\n",
            "Epoch   19/20 Batch 2/3 Cost: 6.709937\n",
            "Epoch   19/20 Batch 3/3 Cost: 4.124613\n",
            "Epoch   20/20 Batch 1/3 Cost: 5.001217\n",
            "Epoch   20/20 Batch 2/3 Cost: 12.084431\n",
            "Epoch   20/20 Batch 3/3 Cost: 6.321769\n"
          ]
        }
      ]
    },
    {
      "cell_type": "code",
      "source": [
        "new_var = torch.FloatTensor([[73,80,75]])\n",
        "pred_y = model(new_var)\n",
        "print(pred_y)"
      ],
      "metadata": {
        "colab": {
          "base_uri": "https://localhost:8080/"
        },
        "id": "7NhHr_DFMwlg",
        "outputId": "8809c21a-3b0b-4250-9143-b5cc670b9d63"
      },
      "execution_count": 14,
      "outputs": [
        {
          "output_type": "stream",
          "name": "stdout",
          "text": [
            "tensor([[153.6837]], grad_fn=<AddmmBackward0>)\n"
          ]
        }
      ]
    }
  ]
}