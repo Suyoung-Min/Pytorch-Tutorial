{
  "nbformat": 4,
  "nbformat_minor": 0,
  "metadata": {
    "colab": {
      "name": "Sin_2_3dimfunc.ipynb",
      "provenance": [],
      "collapsed_sections": [],
      "authorship_tag": "ABX9TyO8CdWvuqm0DStqEUVofQRR",
      "include_colab_link": true
    },
    "kernelspec": {
      "name": "python3",
      "display_name": "Python 3"
    },
    "language_info": {
      "name": "python"
    },
    "accelerator": "GPU"
  },
  "cells": [
    {
      "cell_type": "markdown",
      "metadata": {
        "id": "view-in-github",
        "colab_type": "text"
      },
      "source": [
        "<a href=\"https://colab.research.google.com/github/Suyoung-Min/Pytorch-Tutorial/blob/main/Tutorial/Sin_2_3dimfunc.ipynb\" target=\"_parent\"><img src=\"https://colab.research.google.com/assets/colab-badge.svg\" alt=\"Open In Colab\"/></a>"
      ]
    },
    {
      "cell_type": "markdown",
      "metadata": {
        "id": "i4d-Aey6zubO"
      },
      "source": [
        "Pytorch 3차 다항식을 sin 함수에 근사하기"
      ]
    },
    {
      "cell_type": "code",
      "metadata": {
        "id": "G6KP-yOrx8kj"
      },
      "source": [
        "import torch\n",
        "import math"
      ],
      "execution_count": 2,
      "outputs": []
    },
    {
      "cell_type": "code",
      "metadata": {
        "id": "dT45ulvSx90Q"
      },
      "source": [
        "dtype = torch.float\n",
        "device = torch.device('cuda:0')"
      ],
      "execution_count": 3,
      "outputs": []
    },
    {
      "cell_type": "code",
      "metadata": {
        "id": "7MHxC0AqyBN5"
      },
      "source": [
        "x = torch.linspace(-math.pi,math.pi, 2000, device = device, dtype = dtype)\n",
        "y = torch.sin(x)"
      ],
      "execution_count": 4,
      "outputs": []
    },
    {
      "cell_type": "code",
      "metadata": {
        "colab": {
          "base_uri": "https://localhost:8080/"
        },
        "id": "a6HZ5vpiyl5J",
        "outputId": "adf48a26-5dd6-4c23-cab6-4e97196092c0"
      },
      "source": [
        "a = torch.randn((), device = device, dtype = dtype)\n",
        "b = torch.randn((), device = device, dtype = dtype)\n",
        "c = torch.randn((), device = device, dtype = dtype)\n",
        "d = torch.randn((), device = device, dtype = dtype)\n",
        "\n",
        "learning_rate = 1e-6\n",
        "\n",
        "for t in range(2000):\n",
        "  y_pred = a + b * x + c * x ** 2 + d * x ** 3\n",
        "\n",
        "  loss = (y_pred - y).pow(2).sum().item()\n",
        "  if t % 100 == 99:\n",
        "    print(t,round(loss,1))\n",
        "\n",
        "  grad_y_pred = 2.0 * (y_pred - y)\n",
        "  grad_a = grad_y_pred.sum()\n",
        "  grad_b = (grad_y_pred * x ).sum()\n",
        "  grad_c = (grad_y_pred * x ** 2).sum()\n",
        "  grad_d = (grad_y_pred * x ** 3).sum()\n",
        "  \n",
        "  a -= learning_rate * grad_a\n",
        "  b -= learning_rate * grad_b\n",
        "  c -= learning_rate * grad_c\n",
        "  d -= learning_rate * grad_d\n",
        "\n",
        "print(f'Result: y = {a.item()} + {b.item()} x + {c.item()} x^2 + {d.item()} x^3')"
      ],
      "execution_count": 8,
      "outputs": [
        {
          "output_type": "stream",
          "name": "stdout",
          "text": [
            "99 3908.5\n",
            "199 2617.8\n",
            "299 1755.5\n",
            "399 1179.0\n",
            "499 793.3\n",
            "599 535.2\n",
            "699 362.3\n",
            "799 246.3\n",
            "899 168.6\n",
            "999 116.4\n",
            "1099 81.3\n",
            "1199 57.7\n",
            "1299 41.8\n",
            "1399 31.1\n",
            "1499 23.9\n",
            "1599 19.0\n",
            "1699 15.7\n",
            "1799 13.5\n",
            "1899 12.0\n",
            "1999 11.0\n",
            "Result: y = -0.03204146400094032 + 0.8223180770874023 x + 0.005527682602405548 x^2 + -0.08843404799699783 x^3\n"
          ]
        }
      ]
    }
  ]
}