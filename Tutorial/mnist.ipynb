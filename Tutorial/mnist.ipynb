{
  "nbformat": 4,
  "nbformat_minor": 0,
  "metadata": {
    "colab": {
      "name": "Untitled0.ipynb",
      "provenance": [],
      "authorship_tag": "ABX9TyOTyeAtPbOw8GZmkonTWa7P",
      "include_colab_link": true
    },
    "kernelspec": {
      "name": "python3",
      "display_name": "Python 3"
    },
    "language_info": {
      "name": "python"
    },
    "accelerator": "GPU",
    "widgets": {
      "application/vnd.jupyter.widget-state+json": {
        "1a506c22241b486e9f11dcd1f04705c7": {
          "model_module": "@jupyter-widgets/controls",
          "model_name": "HBoxModel",
          "model_module_version": "1.5.0",
          "state": {
            "_view_name": "HBoxView",
            "_dom_classes": [],
            "_model_name": "HBoxModel",
            "_view_module": "@jupyter-widgets/controls",
            "_model_module_version": "1.5.0",
            "_view_count": null,
            "_view_module_version": "1.5.0",
            "box_style": "",
            "layout": "IPY_MODEL_4bc832f4dbdc4d11a4a0065101d6c229",
            "_model_module": "@jupyter-widgets/controls",
            "children": [
              "IPY_MODEL_66c2f6928ed54e79aa0db3fcc1a7a56b",
              "IPY_MODEL_e6c931bb79b848f19f0c3194b3827a53",
              "IPY_MODEL_1fb95603a61b4af1a4d356f10e8e3a5c"
            ]
          }
        },
        "4bc832f4dbdc4d11a4a0065101d6c229": {
          "model_module": "@jupyter-widgets/base",
          "model_name": "LayoutModel",
          "model_module_version": "1.2.0",
          "state": {
            "_view_name": "LayoutView",
            "grid_template_rows": null,
            "right": null,
            "justify_content": null,
            "_view_module": "@jupyter-widgets/base",
            "overflow": null,
            "_model_module_version": "1.2.0",
            "_view_count": null,
            "flex_flow": null,
            "width": null,
            "min_width": null,
            "border": null,
            "align_items": null,
            "bottom": null,
            "_model_module": "@jupyter-widgets/base",
            "top": null,
            "grid_column": null,
            "overflow_y": null,
            "overflow_x": null,
            "grid_auto_flow": null,
            "grid_area": null,
            "grid_template_columns": null,
            "flex": null,
            "_model_name": "LayoutModel",
            "justify_items": null,
            "grid_row": null,
            "max_height": null,
            "align_content": null,
            "visibility": null,
            "align_self": null,
            "height": null,
            "min_height": null,
            "padding": null,
            "grid_auto_rows": null,
            "grid_gap": null,
            "max_width": null,
            "order": null,
            "_view_module_version": "1.2.0",
            "grid_template_areas": null,
            "object_position": null,
            "object_fit": null,
            "grid_auto_columns": null,
            "margin": null,
            "display": null,
            "left": null
          }
        },
        "66c2f6928ed54e79aa0db3fcc1a7a56b": {
          "model_module": "@jupyter-widgets/controls",
          "model_name": "HTMLModel",
          "model_module_version": "1.5.0",
          "state": {
            "_view_name": "HTMLView",
            "style": "IPY_MODEL_7194ffc6e0e64d52934879d499139ceb",
            "_dom_classes": [],
            "description": "",
            "_model_name": "HTMLModel",
            "placeholder": "​",
            "_view_module": "@jupyter-widgets/controls",
            "_model_module_version": "1.5.0",
            "value": "",
            "_view_count": null,
            "_view_module_version": "1.5.0",
            "description_tooltip": null,
            "_model_module": "@jupyter-widgets/controls",
            "layout": "IPY_MODEL_d3462972106f400ead8826c17fd8cd01"
          }
        },
        "e6c931bb79b848f19f0c3194b3827a53": {
          "model_module": "@jupyter-widgets/controls",
          "model_name": "FloatProgressModel",
          "model_module_version": "1.5.0",
          "state": {
            "_view_name": "ProgressView",
            "style": "IPY_MODEL_bbfe5ef02bf64bf082482260488b03ba",
            "_dom_classes": [],
            "description": "",
            "_model_name": "FloatProgressModel",
            "bar_style": "success",
            "max": 9912422,
            "_view_module": "@jupyter-widgets/controls",
            "_model_module_version": "1.5.0",
            "value": 9912422,
            "_view_count": null,
            "_view_module_version": "1.5.0",
            "orientation": "horizontal",
            "min": 0,
            "description_tooltip": null,
            "_model_module": "@jupyter-widgets/controls",
            "layout": "IPY_MODEL_3ae3c1a8cf134e26af2e8c369f5e6f03"
          }
        },
        "1fb95603a61b4af1a4d356f10e8e3a5c": {
          "model_module": "@jupyter-widgets/controls",
          "model_name": "HTMLModel",
          "model_module_version": "1.5.0",
          "state": {
            "_view_name": "HTMLView",
            "style": "IPY_MODEL_95fb57d89a644116838f3dbb30241c8a",
            "_dom_classes": [],
            "description": "",
            "_model_name": "HTMLModel",
            "placeholder": "​",
            "_view_module": "@jupyter-widgets/controls",
            "_model_module_version": "1.5.0",
            "value": " 9913344/? [00:00&lt;00:00, 53521449.79it/s]",
            "_view_count": null,
            "_view_module_version": "1.5.0",
            "description_tooltip": null,
            "_model_module": "@jupyter-widgets/controls",
            "layout": "IPY_MODEL_aff0b79e4a5a4f18b89516cbccad5e2e"
          }
        },
        "7194ffc6e0e64d52934879d499139ceb": {
          "model_module": "@jupyter-widgets/controls",
          "model_name": "DescriptionStyleModel",
          "model_module_version": "1.5.0",
          "state": {
            "_view_name": "StyleView",
            "_model_name": "DescriptionStyleModel",
            "description_width": "",
            "_view_module": "@jupyter-widgets/base",
            "_model_module_version": "1.5.0",
            "_view_count": null,
            "_view_module_version": "1.2.0",
            "_model_module": "@jupyter-widgets/controls"
          }
        },
        "d3462972106f400ead8826c17fd8cd01": {
          "model_module": "@jupyter-widgets/base",
          "model_name": "LayoutModel",
          "model_module_version": "1.2.0",
          "state": {
            "_view_name": "LayoutView",
            "grid_template_rows": null,
            "right": null,
            "justify_content": null,
            "_view_module": "@jupyter-widgets/base",
            "overflow": null,
            "_model_module_version": "1.2.0",
            "_view_count": null,
            "flex_flow": null,
            "width": null,
            "min_width": null,
            "border": null,
            "align_items": null,
            "bottom": null,
            "_model_module": "@jupyter-widgets/base",
            "top": null,
            "grid_column": null,
            "overflow_y": null,
            "overflow_x": null,
            "grid_auto_flow": null,
            "grid_area": null,
            "grid_template_columns": null,
            "flex": null,
            "_model_name": "LayoutModel",
            "justify_items": null,
            "grid_row": null,
            "max_height": null,
            "align_content": null,
            "visibility": null,
            "align_self": null,
            "height": null,
            "min_height": null,
            "padding": null,
            "grid_auto_rows": null,
            "grid_gap": null,
            "max_width": null,
            "order": null,
            "_view_module_version": "1.2.0",
            "grid_template_areas": null,
            "object_position": null,
            "object_fit": null,
            "grid_auto_columns": null,
            "margin": null,
            "display": null,
            "left": null
          }
        },
        "bbfe5ef02bf64bf082482260488b03ba": {
          "model_module": "@jupyter-widgets/controls",
          "model_name": "ProgressStyleModel",
          "model_module_version": "1.5.0",
          "state": {
            "_view_name": "StyleView",
            "_model_name": "ProgressStyleModel",
            "description_width": "",
            "_view_module": "@jupyter-widgets/base",
            "_model_module_version": "1.5.0",
            "_view_count": null,
            "_view_module_version": "1.2.0",
            "bar_color": null,
            "_model_module": "@jupyter-widgets/controls"
          }
        },
        "3ae3c1a8cf134e26af2e8c369f5e6f03": {
          "model_module": "@jupyter-widgets/base",
          "model_name": "LayoutModel",
          "model_module_version": "1.2.0",
          "state": {
            "_view_name": "LayoutView",
            "grid_template_rows": null,
            "right": null,
            "justify_content": null,
            "_view_module": "@jupyter-widgets/base",
            "overflow": null,
            "_model_module_version": "1.2.0",
            "_view_count": null,
            "flex_flow": null,
            "width": null,
            "min_width": null,
            "border": null,
            "align_items": null,
            "bottom": null,
            "_model_module": "@jupyter-widgets/base",
            "top": null,
            "grid_column": null,
            "overflow_y": null,
            "overflow_x": null,
            "grid_auto_flow": null,
            "grid_area": null,
            "grid_template_columns": null,
            "flex": null,
            "_model_name": "LayoutModel",
            "justify_items": null,
            "grid_row": null,
            "max_height": null,
            "align_content": null,
            "visibility": null,
            "align_self": null,
            "height": null,
            "min_height": null,
            "padding": null,
            "grid_auto_rows": null,
            "grid_gap": null,
            "max_width": null,
            "order": null,
            "_view_module_version": "1.2.0",
            "grid_template_areas": null,
            "object_position": null,
            "object_fit": null,
            "grid_auto_columns": null,
            "margin": null,
            "display": null,
            "left": null
          }
        },
        "95fb57d89a644116838f3dbb30241c8a": {
          "model_module": "@jupyter-widgets/controls",
          "model_name": "DescriptionStyleModel",
          "model_module_version": "1.5.0",
          "state": {
            "_view_name": "StyleView",
            "_model_name": "DescriptionStyleModel",
            "description_width": "",
            "_view_module": "@jupyter-widgets/base",
            "_model_module_version": "1.5.0",
            "_view_count": null,
            "_view_module_version": "1.2.0",
            "_model_module": "@jupyter-widgets/controls"
          }
        },
        "aff0b79e4a5a4f18b89516cbccad5e2e": {
          "model_module": "@jupyter-widgets/base",
          "model_name": "LayoutModel",
          "model_module_version": "1.2.0",
          "state": {
            "_view_name": "LayoutView",
            "grid_template_rows": null,
            "right": null,
            "justify_content": null,
            "_view_module": "@jupyter-widgets/base",
            "overflow": null,
            "_model_module_version": "1.2.0",
            "_view_count": null,
            "flex_flow": null,
            "width": null,
            "min_width": null,
            "border": null,
            "align_items": null,
            "bottom": null,
            "_model_module": "@jupyter-widgets/base",
            "top": null,
            "grid_column": null,
            "overflow_y": null,
            "overflow_x": null,
            "grid_auto_flow": null,
            "grid_area": null,
            "grid_template_columns": null,
            "flex": null,
            "_model_name": "LayoutModel",
            "justify_items": null,
            "grid_row": null,
            "max_height": null,
            "align_content": null,
            "visibility": null,
            "align_self": null,
            "height": null,
            "min_height": null,
            "padding": null,
            "grid_auto_rows": null,
            "grid_gap": null,
            "max_width": null,
            "order": null,
            "_view_module_version": "1.2.0",
            "grid_template_areas": null,
            "object_position": null,
            "object_fit": null,
            "grid_auto_columns": null,
            "margin": null,
            "display": null,
            "left": null
          }
        },
        "607af5bdaba140bea20ef08a3bb2940b": {
          "model_module": "@jupyter-widgets/controls",
          "model_name": "HBoxModel",
          "model_module_version": "1.5.0",
          "state": {
            "_view_name": "HBoxView",
            "_dom_classes": [],
            "_model_name": "HBoxModel",
            "_view_module": "@jupyter-widgets/controls",
            "_model_module_version": "1.5.0",
            "_view_count": null,
            "_view_module_version": "1.5.0",
            "box_style": "",
            "layout": "IPY_MODEL_734d78cd81934df9a5d030fcaa249e96",
            "_model_module": "@jupyter-widgets/controls",
            "children": [
              "IPY_MODEL_efe3ed35db294ed3b49d16d3372c0b18",
              "IPY_MODEL_86be6e90732543c897c43e80baba2b2a",
              "IPY_MODEL_10d888df85dc491c99a67f4d01333eff"
            ]
          }
        },
        "734d78cd81934df9a5d030fcaa249e96": {
          "model_module": "@jupyter-widgets/base",
          "model_name": "LayoutModel",
          "model_module_version": "1.2.0",
          "state": {
            "_view_name": "LayoutView",
            "grid_template_rows": null,
            "right": null,
            "justify_content": null,
            "_view_module": "@jupyter-widgets/base",
            "overflow": null,
            "_model_module_version": "1.2.0",
            "_view_count": null,
            "flex_flow": null,
            "width": null,
            "min_width": null,
            "border": null,
            "align_items": null,
            "bottom": null,
            "_model_module": "@jupyter-widgets/base",
            "top": null,
            "grid_column": null,
            "overflow_y": null,
            "overflow_x": null,
            "grid_auto_flow": null,
            "grid_area": null,
            "grid_template_columns": null,
            "flex": null,
            "_model_name": "LayoutModel",
            "justify_items": null,
            "grid_row": null,
            "max_height": null,
            "align_content": null,
            "visibility": null,
            "align_self": null,
            "height": null,
            "min_height": null,
            "padding": null,
            "grid_auto_rows": null,
            "grid_gap": null,
            "max_width": null,
            "order": null,
            "_view_module_version": "1.2.0",
            "grid_template_areas": null,
            "object_position": null,
            "object_fit": null,
            "grid_auto_columns": null,
            "margin": null,
            "display": null,
            "left": null
          }
        },
        "efe3ed35db294ed3b49d16d3372c0b18": {
          "model_module": "@jupyter-widgets/controls",
          "model_name": "HTMLModel",
          "model_module_version": "1.5.0",
          "state": {
            "_view_name": "HTMLView",
            "style": "IPY_MODEL_ee95be589b6b4a00888321a319278835",
            "_dom_classes": [],
            "description": "",
            "_model_name": "HTMLModel",
            "placeholder": "​",
            "_view_module": "@jupyter-widgets/controls",
            "_model_module_version": "1.5.0",
            "value": "",
            "_view_count": null,
            "_view_module_version": "1.5.0",
            "description_tooltip": null,
            "_model_module": "@jupyter-widgets/controls",
            "layout": "IPY_MODEL_8b83269e5d464f4096fefa012f1f6f59"
          }
        },
        "86be6e90732543c897c43e80baba2b2a": {
          "model_module": "@jupyter-widgets/controls",
          "model_name": "FloatProgressModel",
          "model_module_version": "1.5.0",
          "state": {
            "_view_name": "ProgressView",
            "style": "IPY_MODEL_ad9f1c7158a04f4ab6777a5ca253d3ef",
            "_dom_classes": [],
            "description": "",
            "_model_name": "FloatProgressModel",
            "bar_style": "success",
            "max": 28881,
            "_view_module": "@jupyter-widgets/controls",
            "_model_module_version": "1.5.0",
            "value": 28881,
            "_view_count": null,
            "_view_module_version": "1.5.0",
            "orientation": "horizontal",
            "min": 0,
            "description_tooltip": null,
            "_model_module": "@jupyter-widgets/controls",
            "layout": "IPY_MODEL_f9919b190bc8476ba1d8ae71be17e85c"
          }
        },
        "10d888df85dc491c99a67f4d01333eff": {
          "model_module": "@jupyter-widgets/controls",
          "model_name": "HTMLModel",
          "model_module_version": "1.5.0",
          "state": {
            "_view_name": "HTMLView",
            "style": "IPY_MODEL_adf076f9a2ee4a5eb25e11952e371861",
            "_dom_classes": [],
            "description": "",
            "_model_name": "HTMLModel",
            "placeholder": "​",
            "_view_module": "@jupyter-widgets/controls",
            "_model_module_version": "1.5.0",
            "value": " 29696/? [00:00&lt;00:00, 670218.37it/s]",
            "_view_count": null,
            "_view_module_version": "1.5.0",
            "description_tooltip": null,
            "_model_module": "@jupyter-widgets/controls",
            "layout": "IPY_MODEL_0eb87a69d104477ba3a49b9a91999fec"
          }
        },
        "ee95be589b6b4a00888321a319278835": {
          "model_module": "@jupyter-widgets/controls",
          "model_name": "DescriptionStyleModel",
          "model_module_version": "1.5.0",
          "state": {
            "_view_name": "StyleView",
            "_model_name": "DescriptionStyleModel",
            "description_width": "",
            "_view_module": "@jupyter-widgets/base",
            "_model_module_version": "1.5.0",
            "_view_count": null,
            "_view_module_version": "1.2.0",
            "_model_module": "@jupyter-widgets/controls"
          }
        },
        "8b83269e5d464f4096fefa012f1f6f59": {
          "model_module": "@jupyter-widgets/base",
          "model_name": "LayoutModel",
          "model_module_version": "1.2.0",
          "state": {
            "_view_name": "LayoutView",
            "grid_template_rows": null,
            "right": null,
            "justify_content": null,
            "_view_module": "@jupyter-widgets/base",
            "overflow": null,
            "_model_module_version": "1.2.0",
            "_view_count": null,
            "flex_flow": null,
            "width": null,
            "min_width": null,
            "border": null,
            "align_items": null,
            "bottom": null,
            "_model_module": "@jupyter-widgets/base",
            "top": null,
            "grid_column": null,
            "overflow_y": null,
            "overflow_x": null,
            "grid_auto_flow": null,
            "grid_area": null,
            "grid_template_columns": null,
            "flex": null,
            "_model_name": "LayoutModel",
            "justify_items": null,
            "grid_row": null,
            "max_height": null,
            "align_content": null,
            "visibility": null,
            "align_self": null,
            "height": null,
            "min_height": null,
            "padding": null,
            "grid_auto_rows": null,
            "grid_gap": null,
            "max_width": null,
            "order": null,
            "_view_module_version": "1.2.0",
            "grid_template_areas": null,
            "object_position": null,
            "object_fit": null,
            "grid_auto_columns": null,
            "margin": null,
            "display": null,
            "left": null
          }
        },
        "ad9f1c7158a04f4ab6777a5ca253d3ef": {
          "model_module": "@jupyter-widgets/controls",
          "model_name": "ProgressStyleModel",
          "model_module_version": "1.5.0",
          "state": {
            "_view_name": "StyleView",
            "_model_name": "ProgressStyleModel",
            "description_width": "",
            "_view_module": "@jupyter-widgets/base",
            "_model_module_version": "1.5.0",
            "_view_count": null,
            "_view_module_version": "1.2.0",
            "bar_color": null,
            "_model_module": "@jupyter-widgets/controls"
          }
        },
        "f9919b190bc8476ba1d8ae71be17e85c": {
          "model_module": "@jupyter-widgets/base",
          "model_name": "LayoutModel",
          "model_module_version": "1.2.0",
          "state": {
            "_view_name": "LayoutView",
            "grid_template_rows": null,
            "right": null,
            "justify_content": null,
            "_view_module": "@jupyter-widgets/base",
            "overflow": null,
            "_model_module_version": "1.2.0",
            "_view_count": null,
            "flex_flow": null,
            "width": null,
            "min_width": null,
            "border": null,
            "align_items": null,
            "bottom": null,
            "_model_module": "@jupyter-widgets/base",
            "top": null,
            "grid_column": null,
            "overflow_y": null,
            "overflow_x": null,
            "grid_auto_flow": null,
            "grid_area": null,
            "grid_template_columns": null,
            "flex": null,
            "_model_name": "LayoutModel",
            "justify_items": null,
            "grid_row": null,
            "max_height": null,
            "align_content": null,
            "visibility": null,
            "align_self": null,
            "height": null,
            "min_height": null,
            "padding": null,
            "grid_auto_rows": null,
            "grid_gap": null,
            "max_width": null,
            "order": null,
            "_view_module_version": "1.2.0",
            "grid_template_areas": null,
            "object_position": null,
            "object_fit": null,
            "grid_auto_columns": null,
            "margin": null,
            "display": null,
            "left": null
          }
        },
        "adf076f9a2ee4a5eb25e11952e371861": {
          "model_module": "@jupyter-widgets/controls",
          "model_name": "DescriptionStyleModel",
          "model_module_version": "1.5.0",
          "state": {
            "_view_name": "StyleView",
            "_model_name": "DescriptionStyleModel",
            "description_width": "",
            "_view_module": "@jupyter-widgets/base",
            "_model_module_version": "1.5.0",
            "_view_count": null,
            "_view_module_version": "1.2.0",
            "_model_module": "@jupyter-widgets/controls"
          }
        },
        "0eb87a69d104477ba3a49b9a91999fec": {
          "model_module": "@jupyter-widgets/base",
          "model_name": "LayoutModel",
          "model_module_version": "1.2.0",
          "state": {
            "_view_name": "LayoutView",
            "grid_template_rows": null,
            "right": null,
            "justify_content": null,
            "_view_module": "@jupyter-widgets/base",
            "overflow": null,
            "_model_module_version": "1.2.0",
            "_view_count": null,
            "flex_flow": null,
            "width": null,
            "min_width": null,
            "border": null,
            "align_items": null,
            "bottom": null,
            "_model_module": "@jupyter-widgets/base",
            "top": null,
            "grid_column": null,
            "overflow_y": null,
            "overflow_x": null,
            "grid_auto_flow": null,
            "grid_area": null,
            "grid_template_columns": null,
            "flex": null,
            "_model_name": "LayoutModel",
            "justify_items": null,
            "grid_row": null,
            "max_height": null,
            "align_content": null,
            "visibility": null,
            "align_self": null,
            "height": null,
            "min_height": null,
            "padding": null,
            "grid_auto_rows": null,
            "grid_gap": null,
            "max_width": null,
            "order": null,
            "_view_module_version": "1.2.0",
            "grid_template_areas": null,
            "object_position": null,
            "object_fit": null,
            "grid_auto_columns": null,
            "margin": null,
            "display": null,
            "left": null
          }
        },
        "9ba9839efa234217abb0a790af21d015": {
          "model_module": "@jupyter-widgets/controls",
          "model_name": "HBoxModel",
          "model_module_version": "1.5.0",
          "state": {
            "_view_name": "HBoxView",
            "_dom_classes": [],
            "_model_name": "HBoxModel",
            "_view_module": "@jupyter-widgets/controls",
            "_model_module_version": "1.5.0",
            "_view_count": null,
            "_view_module_version": "1.5.0",
            "box_style": "",
            "layout": "IPY_MODEL_75f9a071cc284d7aa26f142040adde2c",
            "_model_module": "@jupyter-widgets/controls",
            "children": [
              "IPY_MODEL_fd8b5f1d8a79400ca3469ced632285ad",
              "IPY_MODEL_a3d1be7dd51d4f2fa89dbdd5bd097463",
              "IPY_MODEL_93c4a53abf0640389bf3468742448130"
            ]
          }
        },
        "75f9a071cc284d7aa26f142040adde2c": {
          "model_module": "@jupyter-widgets/base",
          "model_name": "LayoutModel",
          "model_module_version": "1.2.0",
          "state": {
            "_view_name": "LayoutView",
            "grid_template_rows": null,
            "right": null,
            "justify_content": null,
            "_view_module": "@jupyter-widgets/base",
            "overflow": null,
            "_model_module_version": "1.2.0",
            "_view_count": null,
            "flex_flow": null,
            "width": null,
            "min_width": null,
            "border": null,
            "align_items": null,
            "bottom": null,
            "_model_module": "@jupyter-widgets/base",
            "top": null,
            "grid_column": null,
            "overflow_y": null,
            "overflow_x": null,
            "grid_auto_flow": null,
            "grid_area": null,
            "grid_template_columns": null,
            "flex": null,
            "_model_name": "LayoutModel",
            "justify_items": null,
            "grid_row": null,
            "max_height": null,
            "align_content": null,
            "visibility": null,
            "align_self": null,
            "height": null,
            "min_height": null,
            "padding": null,
            "grid_auto_rows": null,
            "grid_gap": null,
            "max_width": null,
            "order": null,
            "_view_module_version": "1.2.0",
            "grid_template_areas": null,
            "object_position": null,
            "object_fit": null,
            "grid_auto_columns": null,
            "margin": null,
            "display": null,
            "left": null
          }
        },
        "fd8b5f1d8a79400ca3469ced632285ad": {
          "model_module": "@jupyter-widgets/controls",
          "model_name": "HTMLModel",
          "model_module_version": "1.5.0",
          "state": {
            "_view_name": "HTMLView",
            "style": "IPY_MODEL_0bde6e4d20aa41b1ac0eca06cd93b1f3",
            "_dom_classes": [],
            "description": "",
            "_model_name": "HTMLModel",
            "placeholder": "​",
            "_view_module": "@jupyter-widgets/controls",
            "_model_module_version": "1.5.0",
            "value": "",
            "_view_count": null,
            "_view_module_version": "1.5.0",
            "description_tooltip": null,
            "_model_module": "@jupyter-widgets/controls",
            "layout": "IPY_MODEL_24f2aed6b99741b2bf2e01a0076cfa25"
          }
        },
        "a3d1be7dd51d4f2fa89dbdd5bd097463": {
          "model_module": "@jupyter-widgets/controls",
          "model_name": "FloatProgressModel",
          "model_module_version": "1.5.0",
          "state": {
            "_view_name": "ProgressView",
            "style": "IPY_MODEL_16fb70d0976e462ea42746d3a60dae52",
            "_dom_classes": [],
            "description": "",
            "_model_name": "FloatProgressModel",
            "bar_style": "success",
            "max": 1648877,
            "_view_module": "@jupyter-widgets/controls",
            "_model_module_version": "1.5.0",
            "value": 1648877,
            "_view_count": null,
            "_view_module_version": "1.5.0",
            "orientation": "horizontal",
            "min": 0,
            "description_tooltip": null,
            "_model_module": "@jupyter-widgets/controls",
            "layout": "IPY_MODEL_79192e35ceae4872a9709ad5a5c7ce9e"
          }
        },
        "93c4a53abf0640389bf3468742448130": {
          "model_module": "@jupyter-widgets/controls",
          "model_name": "HTMLModel",
          "model_module_version": "1.5.0",
          "state": {
            "_view_name": "HTMLView",
            "style": "IPY_MODEL_9f79680052b2482ebd29b28d64cec58d",
            "_dom_classes": [],
            "description": "",
            "_model_name": "HTMLModel",
            "placeholder": "​",
            "_view_module": "@jupyter-widgets/controls",
            "_model_module_version": "1.5.0",
            "value": " 1649664/? [00:00&lt;00:00, 17125399.57it/s]",
            "_view_count": null,
            "_view_module_version": "1.5.0",
            "description_tooltip": null,
            "_model_module": "@jupyter-widgets/controls",
            "layout": "IPY_MODEL_c5949adf867740d092f8a71f2725415c"
          }
        },
        "0bde6e4d20aa41b1ac0eca06cd93b1f3": {
          "model_module": "@jupyter-widgets/controls",
          "model_name": "DescriptionStyleModel",
          "model_module_version": "1.5.0",
          "state": {
            "_view_name": "StyleView",
            "_model_name": "DescriptionStyleModel",
            "description_width": "",
            "_view_module": "@jupyter-widgets/base",
            "_model_module_version": "1.5.0",
            "_view_count": null,
            "_view_module_version": "1.2.0",
            "_model_module": "@jupyter-widgets/controls"
          }
        },
        "24f2aed6b99741b2bf2e01a0076cfa25": {
          "model_module": "@jupyter-widgets/base",
          "model_name": "LayoutModel",
          "model_module_version": "1.2.0",
          "state": {
            "_view_name": "LayoutView",
            "grid_template_rows": null,
            "right": null,
            "justify_content": null,
            "_view_module": "@jupyter-widgets/base",
            "overflow": null,
            "_model_module_version": "1.2.0",
            "_view_count": null,
            "flex_flow": null,
            "width": null,
            "min_width": null,
            "border": null,
            "align_items": null,
            "bottom": null,
            "_model_module": "@jupyter-widgets/base",
            "top": null,
            "grid_column": null,
            "overflow_y": null,
            "overflow_x": null,
            "grid_auto_flow": null,
            "grid_area": null,
            "grid_template_columns": null,
            "flex": null,
            "_model_name": "LayoutModel",
            "justify_items": null,
            "grid_row": null,
            "max_height": null,
            "align_content": null,
            "visibility": null,
            "align_self": null,
            "height": null,
            "min_height": null,
            "padding": null,
            "grid_auto_rows": null,
            "grid_gap": null,
            "max_width": null,
            "order": null,
            "_view_module_version": "1.2.0",
            "grid_template_areas": null,
            "object_position": null,
            "object_fit": null,
            "grid_auto_columns": null,
            "margin": null,
            "display": null,
            "left": null
          }
        },
        "16fb70d0976e462ea42746d3a60dae52": {
          "model_module": "@jupyter-widgets/controls",
          "model_name": "ProgressStyleModel",
          "model_module_version": "1.5.0",
          "state": {
            "_view_name": "StyleView",
            "_model_name": "ProgressStyleModel",
            "description_width": "",
            "_view_module": "@jupyter-widgets/base",
            "_model_module_version": "1.5.0",
            "_view_count": null,
            "_view_module_version": "1.2.0",
            "bar_color": null,
            "_model_module": "@jupyter-widgets/controls"
          }
        },
        "79192e35ceae4872a9709ad5a5c7ce9e": {
          "model_module": "@jupyter-widgets/base",
          "model_name": "LayoutModel",
          "model_module_version": "1.2.0",
          "state": {
            "_view_name": "LayoutView",
            "grid_template_rows": null,
            "right": null,
            "justify_content": null,
            "_view_module": "@jupyter-widgets/base",
            "overflow": null,
            "_model_module_version": "1.2.0",
            "_view_count": null,
            "flex_flow": null,
            "width": null,
            "min_width": null,
            "border": null,
            "align_items": null,
            "bottom": null,
            "_model_module": "@jupyter-widgets/base",
            "top": null,
            "grid_column": null,
            "overflow_y": null,
            "overflow_x": null,
            "grid_auto_flow": null,
            "grid_area": null,
            "grid_template_columns": null,
            "flex": null,
            "_model_name": "LayoutModel",
            "justify_items": null,
            "grid_row": null,
            "max_height": null,
            "align_content": null,
            "visibility": null,
            "align_self": null,
            "height": null,
            "min_height": null,
            "padding": null,
            "grid_auto_rows": null,
            "grid_gap": null,
            "max_width": null,
            "order": null,
            "_view_module_version": "1.2.0",
            "grid_template_areas": null,
            "object_position": null,
            "object_fit": null,
            "grid_auto_columns": null,
            "margin": null,
            "display": null,
            "left": null
          }
        },
        "9f79680052b2482ebd29b28d64cec58d": {
          "model_module": "@jupyter-widgets/controls",
          "model_name": "DescriptionStyleModel",
          "model_module_version": "1.5.0",
          "state": {
            "_view_name": "StyleView",
            "_model_name": "DescriptionStyleModel",
            "description_width": "",
            "_view_module": "@jupyter-widgets/base",
            "_model_module_version": "1.5.0",
            "_view_count": null,
            "_view_module_version": "1.2.0",
            "_model_module": "@jupyter-widgets/controls"
          }
        },
        "c5949adf867740d092f8a71f2725415c": {
          "model_module": "@jupyter-widgets/base",
          "model_name": "LayoutModel",
          "model_module_version": "1.2.0",
          "state": {
            "_view_name": "LayoutView",
            "grid_template_rows": null,
            "right": null,
            "justify_content": null,
            "_view_module": "@jupyter-widgets/base",
            "overflow": null,
            "_model_module_version": "1.2.0",
            "_view_count": null,
            "flex_flow": null,
            "width": null,
            "min_width": null,
            "border": null,
            "align_items": null,
            "bottom": null,
            "_model_module": "@jupyter-widgets/base",
            "top": null,
            "grid_column": null,
            "overflow_y": null,
            "overflow_x": null,
            "grid_auto_flow": null,
            "grid_area": null,
            "grid_template_columns": null,
            "flex": null,
            "_model_name": "LayoutModel",
            "justify_items": null,
            "grid_row": null,
            "max_height": null,
            "align_content": null,
            "visibility": null,
            "align_self": null,
            "height": null,
            "min_height": null,
            "padding": null,
            "grid_auto_rows": null,
            "grid_gap": null,
            "max_width": null,
            "order": null,
            "_view_module_version": "1.2.0",
            "grid_template_areas": null,
            "object_position": null,
            "object_fit": null,
            "grid_auto_columns": null,
            "margin": null,
            "display": null,
            "left": null
          }
        },
        "8ce96ac37e4648d391f7cdbe54071bda": {
          "model_module": "@jupyter-widgets/controls",
          "model_name": "HBoxModel",
          "model_module_version": "1.5.0",
          "state": {
            "_view_name": "HBoxView",
            "_dom_classes": [],
            "_model_name": "HBoxModel",
            "_view_module": "@jupyter-widgets/controls",
            "_model_module_version": "1.5.0",
            "_view_count": null,
            "_view_module_version": "1.5.0",
            "box_style": "",
            "layout": "IPY_MODEL_13ea941e798c45ecb0e06a6cbd25974a",
            "_model_module": "@jupyter-widgets/controls",
            "children": [
              "IPY_MODEL_96f529e7a9fd44b1a86dafee71c3cf61",
              "IPY_MODEL_b74b8ff940674a81975901deb21e75f6",
              "IPY_MODEL_c51d116e29a345cebe92b4a39070a69a"
            ]
          }
        },
        "13ea941e798c45ecb0e06a6cbd25974a": {
          "model_module": "@jupyter-widgets/base",
          "model_name": "LayoutModel",
          "model_module_version": "1.2.0",
          "state": {
            "_view_name": "LayoutView",
            "grid_template_rows": null,
            "right": null,
            "justify_content": null,
            "_view_module": "@jupyter-widgets/base",
            "overflow": null,
            "_model_module_version": "1.2.0",
            "_view_count": null,
            "flex_flow": null,
            "width": null,
            "min_width": null,
            "border": null,
            "align_items": null,
            "bottom": null,
            "_model_module": "@jupyter-widgets/base",
            "top": null,
            "grid_column": null,
            "overflow_y": null,
            "overflow_x": null,
            "grid_auto_flow": null,
            "grid_area": null,
            "grid_template_columns": null,
            "flex": null,
            "_model_name": "LayoutModel",
            "justify_items": null,
            "grid_row": null,
            "max_height": null,
            "align_content": null,
            "visibility": null,
            "align_self": null,
            "height": null,
            "min_height": null,
            "padding": null,
            "grid_auto_rows": null,
            "grid_gap": null,
            "max_width": null,
            "order": null,
            "_view_module_version": "1.2.0",
            "grid_template_areas": null,
            "object_position": null,
            "object_fit": null,
            "grid_auto_columns": null,
            "margin": null,
            "display": null,
            "left": null
          }
        },
        "96f529e7a9fd44b1a86dafee71c3cf61": {
          "model_module": "@jupyter-widgets/controls",
          "model_name": "HTMLModel",
          "model_module_version": "1.5.0",
          "state": {
            "_view_name": "HTMLView",
            "style": "IPY_MODEL_17654efc683447429b366842b563961c",
            "_dom_classes": [],
            "description": "",
            "_model_name": "HTMLModel",
            "placeholder": "​",
            "_view_module": "@jupyter-widgets/controls",
            "_model_module_version": "1.5.0",
            "value": "",
            "_view_count": null,
            "_view_module_version": "1.5.0",
            "description_tooltip": null,
            "_model_module": "@jupyter-widgets/controls",
            "layout": "IPY_MODEL_edef9be8a4c54b2fa5a9ee985cb301c8"
          }
        },
        "b74b8ff940674a81975901deb21e75f6": {
          "model_module": "@jupyter-widgets/controls",
          "model_name": "FloatProgressModel",
          "model_module_version": "1.5.0",
          "state": {
            "_view_name": "ProgressView",
            "style": "IPY_MODEL_af4bd8cb50c1429b92bbd1a96ae877a6",
            "_dom_classes": [],
            "description": "",
            "_model_name": "FloatProgressModel",
            "bar_style": "success",
            "max": 4542,
            "_view_module": "@jupyter-widgets/controls",
            "_model_module_version": "1.5.0",
            "value": 4542,
            "_view_count": null,
            "_view_module_version": "1.5.0",
            "orientation": "horizontal",
            "min": 0,
            "description_tooltip": null,
            "_model_module": "@jupyter-widgets/controls",
            "layout": "IPY_MODEL_f0323b0c21034ac698708bcb8cb731d6"
          }
        },
        "c51d116e29a345cebe92b4a39070a69a": {
          "model_module": "@jupyter-widgets/controls",
          "model_name": "HTMLModel",
          "model_module_version": "1.5.0",
          "state": {
            "_view_name": "HTMLView",
            "style": "IPY_MODEL_02087897ca3c4e0daa04d6fde514d960",
            "_dom_classes": [],
            "description": "",
            "_model_name": "HTMLModel",
            "placeholder": "​",
            "_view_module": "@jupyter-widgets/controls",
            "_model_module_version": "1.5.0",
            "value": " 5120/? [00:00&lt;00:00, 120229.75it/s]",
            "_view_count": null,
            "_view_module_version": "1.5.0",
            "description_tooltip": null,
            "_model_module": "@jupyter-widgets/controls",
            "layout": "IPY_MODEL_1d7f0d45ec7346269c90f32103b9d1e4"
          }
        },
        "17654efc683447429b366842b563961c": {
          "model_module": "@jupyter-widgets/controls",
          "model_name": "DescriptionStyleModel",
          "model_module_version": "1.5.0",
          "state": {
            "_view_name": "StyleView",
            "_model_name": "DescriptionStyleModel",
            "description_width": "",
            "_view_module": "@jupyter-widgets/base",
            "_model_module_version": "1.5.0",
            "_view_count": null,
            "_view_module_version": "1.2.0",
            "_model_module": "@jupyter-widgets/controls"
          }
        },
        "edef9be8a4c54b2fa5a9ee985cb301c8": {
          "model_module": "@jupyter-widgets/base",
          "model_name": "LayoutModel",
          "model_module_version": "1.2.0",
          "state": {
            "_view_name": "LayoutView",
            "grid_template_rows": null,
            "right": null,
            "justify_content": null,
            "_view_module": "@jupyter-widgets/base",
            "overflow": null,
            "_model_module_version": "1.2.0",
            "_view_count": null,
            "flex_flow": null,
            "width": null,
            "min_width": null,
            "border": null,
            "align_items": null,
            "bottom": null,
            "_model_module": "@jupyter-widgets/base",
            "top": null,
            "grid_column": null,
            "overflow_y": null,
            "overflow_x": null,
            "grid_auto_flow": null,
            "grid_area": null,
            "grid_template_columns": null,
            "flex": null,
            "_model_name": "LayoutModel",
            "justify_items": null,
            "grid_row": null,
            "max_height": null,
            "align_content": null,
            "visibility": null,
            "align_self": null,
            "height": null,
            "min_height": null,
            "padding": null,
            "grid_auto_rows": null,
            "grid_gap": null,
            "max_width": null,
            "order": null,
            "_view_module_version": "1.2.0",
            "grid_template_areas": null,
            "object_position": null,
            "object_fit": null,
            "grid_auto_columns": null,
            "margin": null,
            "display": null,
            "left": null
          }
        },
        "af4bd8cb50c1429b92bbd1a96ae877a6": {
          "model_module": "@jupyter-widgets/controls",
          "model_name": "ProgressStyleModel",
          "model_module_version": "1.5.0",
          "state": {
            "_view_name": "StyleView",
            "_model_name": "ProgressStyleModel",
            "description_width": "",
            "_view_module": "@jupyter-widgets/base",
            "_model_module_version": "1.5.0",
            "_view_count": null,
            "_view_module_version": "1.2.0",
            "bar_color": null,
            "_model_module": "@jupyter-widgets/controls"
          }
        },
        "f0323b0c21034ac698708bcb8cb731d6": {
          "model_module": "@jupyter-widgets/base",
          "model_name": "LayoutModel",
          "model_module_version": "1.2.0",
          "state": {
            "_view_name": "LayoutView",
            "grid_template_rows": null,
            "right": null,
            "justify_content": null,
            "_view_module": "@jupyter-widgets/base",
            "overflow": null,
            "_model_module_version": "1.2.0",
            "_view_count": null,
            "flex_flow": null,
            "width": null,
            "min_width": null,
            "border": null,
            "align_items": null,
            "bottom": null,
            "_model_module": "@jupyter-widgets/base",
            "top": null,
            "grid_column": null,
            "overflow_y": null,
            "overflow_x": null,
            "grid_auto_flow": null,
            "grid_area": null,
            "grid_template_columns": null,
            "flex": null,
            "_model_name": "LayoutModel",
            "justify_items": null,
            "grid_row": null,
            "max_height": null,
            "align_content": null,
            "visibility": null,
            "align_self": null,
            "height": null,
            "min_height": null,
            "padding": null,
            "grid_auto_rows": null,
            "grid_gap": null,
            "max_width": null,
            "order": null,
            "_view_module_version": "1.2.0",
            "grid_template_areas": null,
            "object_position": null,
            "object_fit": null,
            "grid_auto_columns": null,
            "margin": null,
            "display": null,
            "left": null
          }
        },
        "02087897ca3c4e0daa04d6fde514d960": {
          "model_module": "@jupyter-widgets/controls",
          "model_name": "DescriptionStyleModel",
          "model_module_version": "1.5.0",
          "state": {
            "_view_name": "StyleView",
            "_model_name": "DescriptionStyleModel",
            "description_width": "",
            "_view_module": "@jupyter-widgets/base",
            "_model_module_version": "1.5.0",
            "_view_count": null,
            "_view_module_version": "1.2.0",
            "_model_module": "@jupyter-widgets/controls"
          }
        },
        "1d7f0d45ec7346269c90f32103b9d1e4": {
          "model_module": "@jupyter-widgets/base",
          "model_name": "LayoutModel",
          "model_module_version": "1.2.0",
          "state": {
            "_view_name": "LayoutView",
            "grid_template_rows": null,
            "right": null,
            "justify_content": null,
            "_view_module": "@jupyter-widgets/base",
            "overflow": null,
            "_model_module_version": "1.2.0",
            "_view_count": null,
            "flex_flow": null,
            "width": null,
            "min_width": null,
            "border": null,
            "align_items": null,
            "bottom": null,
            "_model_module": "@jupyter-widgets/base",
            "top": null,
            "grid_column": null,
            "overflow_y": null,
            "overflow_x": null,
            "grid_auto_flow": null,
            "grid_area": null,
            "grid_template_columns": null,
            "flex": null,
            "_model_name": "LayoutModel",
            "justify_items": null,
            "grid_row": null,
            "max_height": null,
            "align_content": null,
            "visibility": null,
            "align_self": null,
            "height": null,
            "min_height": null,
            "padding": null,
            "grid_auto_rows": null,
            "grid_gap": null,
            "max_width": null,
            "order": null,
            "_view_module_version": "1.2.0",
            "grid_template_areas": null,
            "object_position": null,
            "object_fit": null,
            "grid_auto_columns": null,
            "margin": null,
            "display": null,
            "left": null
          }
        }
      }
    }
  },
  "cells": [
    {
      "cell_type": "markdown",
      "metadata": {
        "id": "view-in-github",
        "colab_type": "text"
      },
      "source": [
        "<a href=\"https://colab.research.google.com/github/Suyoung-Min/Pytorch-Tutorial/blob/main/mnist.ipynb\" target=\"_parent\"><img src=\"https://colab.research.google.com/assets/colab-badge.svg\" alt=\"Open In Colab\"/></a>"
      ]
    },
    {
      "cell_type": "code",
      "metadata": {
        "id": "h4uHTnkQBvGW"
      },
      "source": [
        "import numpy as np\n",
        "import matplotlib.pyplot as plt\n",
        "import torch\n",
        "import torch.nn as nn\n",
        "import torch.nn.functional as F\n",
        "from torchvision import transforms, datasets"
      ],
      "execution_count": 1,
      "outputs": []
    },
    {
      "cell_type": "code",
      "metadata": {
        "id": "ca_zf32CCAXd"
      },
      "source": [
        "if torch.cuda.is_available():\n",
        "  DEVICE = torch.device('cuda')\n",
        "else:\n",
        "  DEVICE = torch.device('cpu')"
      ],
      "execution_count": 2,
      "outputs": []
    },
    {
      "cell_type": "code",
      "metadata": {
        "colab": {
          "base_uri": "https://localhost:8080/"
        },
        "id": "q03BlrgvCKiI",
        "outputId": "ecdb689a-6d29-4989-f44f-b14873c80964"
      },
      "source": [
        "print('Using PyTorch version:', torch.__version__, 'Device: ',DEVICE)"
      ],
      "execution_count": 3,
      "outputs": [
        {
          "output_type": "stream",
          "name": "stdout",
          "text": [
            "Using PyTorch version: 1.9.0+cu111 Device:  cuda\n"
          ]
        }
      ]
    },
    {
      "cell_type": "code",
      "metadata": {
        "colab": {
          "base_uri": "https://localhost:8080/",
          "height": 489,
          "referenced_widgets": [
            "1a506c22241b486e9f11dcd1f04705c7",
            "4bc832f4dbdc4d11a4a0065101d6c229",
            "66c2f6928ed54e79aa0db3fcc1a7a56b",
            "e6c931bb79b848f19f0c3194b3827a53",
            "1fb95603a61b4af1a4d356f10e8e3a5c",
            "7194ffc6e0e64d52934879d499139ceb",
            "d3462972106f400ead8826c17fd8cd01",
            "bbfe5ef02bf64bf082482260488b03ba",
            "3ae3c1a8cf134e26af2e8c369f5e6f03",
            "95fb57d89a644116838f3dbb30241c8a",
            "aff0b79e4a5a4f18b89516cbccad5e2e",
            "607af5bdaba140bea20ef08a3bb2940b",
            "734d78cd81934df9a5d030fcaa249e96",
            "efe3ed35db294ed3b49d16d3372c0b18",
            "86be6e90732543c897c43e80baba2b2a",
            "10d888df85dc491c99a67f4d01333eff",
            "ee95be589b6b4a00888321a319278835",
            "8b83269e5d464f4096fefa012f1f6f59",
            "ad9f1c7158a04f4ab6777a5ca253d3ef",
            "f9919b190bc8476ba1d8ae71be17e85c",
            "adf076f9a2ee4a5eb25e11952e371861",
            "0eb87a69d104477ba3a49b9a91999fec",
            "9ba9839efa234217abb0a790af21d015",
            "75f9a071cc284d7aa26f142040adde2c",
            "fd8b5f1d8a79400ca3469ced632285ad",
            "a3d1be7dd51d4f2fa89dbdd5bd097463",
            "93c4a53abf0640389bf3468742448130",
            "0bde6e4d20aa41b1ac0eca06cd93b1f3",
            "24f2aed6b99741b2bf2e01a0076cfa25",
            "16fb70d0976e462ea42746d3a60dae52",
            "79192e35ceae4872a9709ad5a5c7ce9e",
            "9f79680052b2482ebd29b28d64cec58d",
            "c5949adf867740d092f8a71f2725415c",
            "8ce96ac37e4648d391f7cdbe54071bda",
            "13ea941e798c45ecb0e06a6cbd25974a",
            "96f529e7a9fd44b1a86dafee71c3cf61",
            "b74b8ff940674a81975901deb21e75f6",
            "c51d116e29a345cebe92b4a39070a69a",
            "17654efc683447429b366842b563961c",
            "edef9be8a4c54b2fa5a9ee985cb301c8",
            "af4bd8cb50c1429b92bbd1a96ae877a6",
            "f0323b0c21034ac698708bcb8cb731d6",
            "02087897ca3c4e0daa04d6fde514d960",
            "1d7f0d45ec7346269c90f32103b9d1e4"
          ]
        },
        "id": "SfKwg2loCT5y",
        "outputId": "f76a6d76-cc48-40c8-92a8-f3c412c426df"
      },
      "source": [
        "BATCH_SIZE = 32\n",
        "EPOCH = 10\n",
        "\n",
        "train_dataset = datasets.MNIST(root = '../data//MNIST',\n",
        "                               train = True,\n",
        "                               download = True,\n",
        "                               transform = transforms.ToTensor())\n",
        "test_dataset = datasets.MNIST(root = '../data/MNIST',\n",
        "                              train = False,\n",
        "                              transform = transforms.ToTensor())\n",
        " "
      ],
      "execution_count": 4,
      "outputs": [
        {
          "output_type": "stream",
          "name": "stdout",
          "text": [
            "Downloading http://yann.lecun.com/exdb/mnist/train-images-idx3-ubyte.gz\n",
            "Downloading http://yann.lecun.com/exdb/mnist/train-images-idx3-ubyte.gz to ../data//MNIST/MNIST/raw/train-images-idx3-ubyte.gz\n"
          ]
        },
        {
          "output_type": "display_data",
          "data": {
            "application/vnd.jupyter.widget-view+json": {
              "model_id": "1a506c22241b486e9f11dcd1f04705c7",
              "version_minor": 0,
              "version_major": 2
            },
            "text/plain": [
              "  0%|          | 0/9912422 [00:00<?, ?it/s]"
            ]
          },
          "metadata": {}
        },
        {
          "output_type": "stream",
          "name": "stdout",
          "text": [
            "Extracting ../data//MNIST/MNIST/raw/train-images-idx3-ubyte.gz to ../data//MNIST/MNIST/raw\n",
            "\n",
            "Downloading http://yann.lecun.com/exdb/mnist/train-labels-idx1-ubyte.gz\n",
            "Downloading http://yann.lecun.com/exdb/mnist/train-labels-idx1-ubyte.gz to ../data//MNIST/MNIST/raw/train-labels-idx1-ubyte.gz\n"
          ]
        },
        {
          "output_type": "display_data",
          "data": {
            "application/vnd.jupyter.widget-view+json": {
              "model_id": "607af5bdaba140bea20ef08a3bb2940b",
              "version_minor": 0,
              "version_major": 2
            },
            "text/plain": [
              "  0%|          | 0/28881 [00:00<?, ?it/s]"
            ]
          },
          "metadata": {}
        },
        {
          "output_type": "stream",
          "name": "stdout",
          "text": [
            "Extracting ../data//MNIST/MNIST/raw/train-labels-idx1-ubyte.gz to ../data//MNIST/MNIST/raw\n",
            "\n",
            "Downloading http://yann.lecun.com/exdb/mnist/t10k-images-idx3-ubyte.gz\n",
            "Downloading http://yann.lecun.com/exdb/mnist/t10k-images-idx3-ubyte.gz to ../data//MNIST/MNIST/raw/t10k-images-idx3-ubyte.gz\n"
          ]
        },
        {
          "output_type": "display_data",
          "data": {
            "application/vnd.jupyter.widget-view+json": {
              "model_id": "9ba9839efa234217abb0a790af21d015",
              "version_minor": 0,
              "version_major": 2
            },
            "text/plain": [
              "  0%|          | 0/1648877 [00:00<?, ?it/s]"
            ]
          },
          "metadata": {}
        },
        {
          "output_type": "stream",
          "name": "stdout",
          "text": [
            "Extracting ../data//MNIST/MNIST/raw/t10k-images-idx3-ubyte.gz to ../data//MNIST/MNIST/raw\n",
            "\n",
            "Downloading http://yann.lecun.com/exdb/mnist/t10k-labels-idx1-ubyte.gz\n",
            "Downloading http://yann.lecun.com/exdb/mnist/t10k-labels-idx1-ubyte.gz to ../data//MNIST/MNIST/raw/t10k-labels-idx1-ubyte.gz\n"
          ]
        },
        {
          "output_type": "display_data",
          "data": {
            "application/vnd.jupyter.widget-view+json": {
              "model_id": "8ce96ac37e4648d391f7cdbe54071bda",
              "version_minor": 0,
              "version_major": 2
            },
            "text/plain": [
              "  0%|          | 0/4542 [00:00<?, ?it/s]"
            ]
          },
          "metadata": {}
        },
        {
          "output_type": "stream",
          "name": "stdout",
          "text": [
            "Extracting ../data//MNIST/MNIST/raw/t10k-labels-idx1-ubyte.gz to ../data//MNIST/MNIST/raw\n",
            "\n"
          ]
        },
        {
          "output_type": "stream",
          "name": "stderr",
          "text": [
            "/usr/local/lib/python3.7/dist-packages/torchvision/datasets/mnist.py:498: UserWarning: The given NumPy array is not writeable, and PyTorch does not support non-writeable tensors. This means you can write to the underlying (supposedly non-writeable) NumPy array using the tensor. You may want to copy the array to protect its data or make it writeable before converting it to a tensor. This type of warning will be suppressed for the rest of this program. (Triggered internally at  /pytorch/torch/csrc/utils/tensor_numpy.cpp:180.)\n",
            "  return torch.from_numpy(parsed.astype(m[2], copy=False)).view(*s)\n"
          ]
        }
      ]
    },
    {
      "cell_type": "code",
      "metadata": {
        "id": "h-fB2Jf-DKpI"
      },
      "source": [
        "train_loader = torch.utils.data.DataLoader(dataset = train_dataset,\n",
        "                                           batch_size = BATCH_SIZE,\n",
        "                                           shuffle = True)\n",
        "test_loader = torch.utils.data.DataLoader(dataset = test_dataset,\n",
        "                                          batch_size = BATCH_SIZE,\n",
        "                                          shuffle = False)"
      ],
      "execution_count": 5,
      "outputs": []
    },
    {
      "cell_type": "code",
      "metadata": {
        "colab": {
          "base_uri": "https://localhost:8080/"
        },
        "id": "OiIda0KSD0Xt",
        "outputId": "2bd0a606-6994-4417-f8b8-81e111c77c27"
      },
      "source": [
        "for(X_train, y_train) in train_loader:\n",
        "  print('X_train:',X_train.size(),'type:',X_train.type())\n",
        "  print('y_train:',y_train.size(),'type:',y_train.type())\n",
        "  break"
      ],
      "execution_count": 10,
      "outputs": [
        {
          "output_type": "stream",
          "name": "stdout",
          "text": [
            "X_train: torch.Size([32, 1, 28, 28]) type: torch.FloatTensor\n",
            "y_train: torch.Size([32]) type: torch.LongTensor\n"
          ]
        }
      ]
    },
    {
      "cell_type": "code",
      "metadata": {
        "colab": {
          "base_uri": "https://localhost:8080/",
          "height": 94
        },
        "id": "W6aWs2ugEddZ",
        "outputId": "b375d272-1be2-4a10-b83a-72da9fded759"
      },
      "source": [
        "pltsize = 1\n",
        "plt.figure(figsize=(10*pltsize,pltsize))\n",
        "for i in range(10):\n",
        "  plt.subplot(1, 10, i+1)\n",
        "  plt.axis('off')\n",
        "  plt.imshow(X_train[i, :, :, :].numpy().reshape(28, 28),cmap = 'gray_r')\n",
        "  plt.title('Class: ' + str(y_train[i].item()))"
      ],
      "execution_count": 14,
      "outputs": [
        {
          "output_type": "display_data",
          "data": {
            "image/png": "[encoded data removed]",
            "text/plain": [
              "<Figure size 720x72 with 10 Axes>"
            ]
          },
          "metadata": {
            "needs_background": "light"
          }
        }
      ]
    },
    {
      "cell_type": "code",
      "metadata": {
        "id": "6SS0PEADE3x7"
      },
      "source": [
        "#MLP model 설계\n",
        "\n",
        "class Net(nn.Module):\n",
        "  def __init__(self):\n",
        "    super(Net, self).__init__()\n",
        "    self.fc1 = nn.Linear(28*28, 512)\n",
        "    self.fc2 = nn.Linear(512, 256)\n",
        "    self.fc3 = nn.Linear(256, 10)\n",
        "  def forward(self, x):\n",
        "    x = x.view( -1, 28*28)\n",
        "    x = self.fc1(x)\n",
        "    x = F.sigmoid(x)\n",
        "    x = self.fc2(x)\n",
        "    x = F.sigmoid(x)\n",
        "    x = self.fc3(x)\n",
        "    x = F.log_softmax(x, dim = 1)\n",
        "    return x"
      ],
      "execution_count": 16,
      "outputs": []
    },
    {
      "cell_type": "code",
      "metadata": {
        "colab": {
          "base_uri": "https://localhost:8080/"
        },
        "id": "7ZYl5bAiGl4h",
        "outputId": "5218721e-ab8b-4684-8402-c44f1dce40cd"
      },
      "source": [
        "model = Net().to(DEVICE)\n",
        "optimizer = torch.optim.SGD(model.parameters(), lr = 0.01, momentum = 0.5)\n",
        "criterion = nn.CrossEntropyLoss()\n",
        "\n",
        "print(model)"
      ],
      "execution_count": 18,
      "outputs": [
        {
          "output_type": "stream",
          "name": "stdout",
          "text": [
            "Net(\n",
            "  (fc1): Linear(in_features=784, out_features=512, bias=True)\n",
            "  (fc2): Linear(in_features=512, out_features=256, bias=True)\n",
            "  (fc3): Linear(in_features=256, out_features=10, bias=True)\n",
            ")\n"
          ]
        }
      ]
    },
    {
      "cell_type": "code",
      "metadata": {
        "id": "XhJrKQ3AE1oh"
      },
      "source": [
        "def train(model, train_loader, optimizer, log_interval):\n",
        "  model.train()\n",
        "  for batch_idx,(image,label) in enumerate(train_loader):\n",
        "    image = image.to(DEVICE)\n",
        "    label = label.to(DEVICE)\n",
        "    optimizer.zero_grad()\n",
        "    output = model(image)\n",
        "    loss = criterion(output,label)\n",
        "    loss.backward()\n",
        "    optimizer.step()\n",
        "\n",
        "    if batch_idx % log_interval == 0:\n",
        "      print('Train Epoch: {} [{}/{}({:.0f}%)]\\tTrain Loss: {:.6f}'.format(\n",
        "          Epoch, batch_idx * len(image),\n",
        "          len(train_loader.dataset), 100. * batch_idx / len(train_loader),\n",
        "              loss.item()))"
      ],
      "execution_count": 26,
      "outputs": []
    },
    {
      "cell_type": "code",
      "metadata": {
        "id": "c5yQ2MMTPoiE"
      },
      "source": [
        "def evaluate(model, test_loader):\n",
        "  model.eval()\n",
        "  test_loss = 0\n",
        "  correct = 0\n",
        "\n",
        "  with torch.no_grad():\n",
        "    for image, label in test_loader:\n",
        "      image = image.to(DEVICE)\n",
        "      label =label.to(DEVICE)\n",
        "      output = model(image)\n",
        "      test_loss += criterion(output, label).item()\n",
        "      prediction = output.max(1, keepdim = True)[1]\n",
        "      correct += prediction.eq(label.view_as(prediction)).sum().item()\n",
        "\n",
        "  test_loss /= len(test_loader.dataset)\n",
        "  test_accuracy = 100. * correct / len(test_loader.dataset)\n",
        "  return test_loss, test_accuracy"
      ],
      "execution_count": 21,
      "outputs": []
    },
    {
      "cell_type": "code",
      "metadata": {
        "colab": {
          "base_uri": "https://localhost:8080/"
        },
        "id": "sQ1eo34CQi77",
        "outputId": "042b530f-a678-4810-c48f-701470a58159"
      },
      "source": [
        "for Epoch in range(1, EPOCH + 1):\n",
        "  train(model, train_loader, optimizer, log_interval = 200)\n",
        "  test_loss, test_accuracy = evaluate(model, test_loader)\n",
        "  print('\\n[EPOCH : {}], \\tTest Loss : {:.4f}, \\tTest Accuracy: {:.2f} %\\n'.\n",
        "        format(Epoch, test_loss, test_accuracy))"
      ],
      "execution_count": 27,
      "outputs": [
        {
          "output_type": "stream",
          "name": "stderr",
          "text": [
            "/usr/local/lib/python3.7/dist-packages/torch/nn/functional.py:1805: UserWarning: nn.functional.sigmoid is deprecated. Use torch.sigmoid instead.\n",
            "  warnings.warn(\"nn.functional.sigmoid is deprecated. Use torch.sigmoid instead.\")\n"
          ]
        },
        {
          "output_type": "stream",
          "name": "stdout",
          "text": [
            "Train Epoch: 1 [0/60000(0%)]\tTrain Loss: 2.305315\n",
            "Train Epoch: 1 [6400/60000(11%)]\tTrain Loss: 2.288196\n",
            "Train Epoch: 1 [12800/60000(21%)]\tTrain Loss: 2.343108\n",
            "Train Epoch: 1 [19200/60000(32%)]\tTrain Loss: 2.324332\n",
            "Train Epoch: 1 [25600/60000(43%)]\tTrain Loss: 2.311352\n",
            "Train Epoch: 1 [32000/60000(53%)]\tTrain Loss: 2.269556\n",
            "Train Epoch: 1 [38400/60000(64%)]\tTrain Loss: 2.283650\n",
            "Train Epoch: 1 [44800/60000(75%)]\tTrain Loss: 2.229955\n",
            "Train Epoch: 1 [51200/60000(85%)]\tTrain Loss: 2.231792\n",
            "Train Epoch: 1 [57600/60000(96%)]\tTrain Loss: 2.151756\n",
            "\n",
            "[EPOCH : 1], \tTest Loss : 0.0696, \tTest Accuracy: 15.84 %\n",
            "\n",
            "Train Epoch: 2 [0/60000(0%)]\tTrain Loss: 2.193467\n",
            "Train Epoch: 2 [6400/60000(11%)]\tTrain Loss: 2.163325\n",
            "Train Epoch: 2 [12800/60000(21%)]\tTrain Loss: 2.153060\n",
            "Train Epoch: 2 [19200/60000(32%)]\tTrain Loss: 2.121065\n",
            "Train Epoch: 2 [25600/60000(43%)]\tTrain Loss: 1.931305\n",
            "Train Epoch: 2 [32000/60000(53%)]\tTrain Loss: 1.865610\n",
            "Train Epoch: 2 [38400/60000(64%)]\tTrain Loss: 1.793001\n",
            "Train Epoch: 2 [44800/60000(75%)]\tTrain Loss: 1.543872\n",
            "Train Epoch: 2 [51200/60000(85%)]\tTrain Loss: 1.301108\n",
            "Train Epoch: 2 [57600/60000(96%)]\tTrain Loss: 1.304495\n",
            "\n",
            "[EPOCH : 2], \tTest Loss : 0.0386, \tTest Accuracy: 67.27 %\n",
            "\n",
            "Train Epoch: 3 [0/60000(0%)]\tTrain Loss: 1.298614\n",
            "Train Epoch: 3 [6400/60000(11%)]\tTrain Loss: 1.307799\n",
            "Train Epoch: 3 [12800/60000(21%)]\tTrain Loss: 0.943577\n",
            "Train Epoch: 3 [19200/60000(32%)]\tTrain Loss: 0.931459\n",
            "Train Epoch: 3 [25600/60000(43%)]\tTrain Loss: 1.028870\n",
            "Train Epoch: 3 [32000/60000(53%)]\tTrain Loss: 0.731867\n",
            "Train Epoch: 3 [38400/60000(64%)]\tTrain Loss: 1.085744\n",
            "Train Epoch: 3 [44800/60000(75%)]\tTrain Loss: 0.908608\n",
            "Train Epoch: 3 [51200/60000(85%)]\tTrain Loss: 0.531249\n",
            "Train Epoch: 3 [57600/60000(96%)]\tTrain Loss: 0.715301\n",
            "\n",
            "[EPOCH : 3], \tTest Loss : 0.0234, \tTest Accuracy: 76.52 %\n",
            "\n",
            "Train Epoch: 4 [0/60000(0%)]\tTrain Loss: 0.669280\n",
            "Train Epoch: 4 [6400/60000(11%)]\tTrain Loss: 0.626045\n",
            "Train Epoch: 4 [12800/60000(21%)]\tTrain Loss: 0.684475\n",
            "Train Epoch: 4 [19200/60000(32%)]\tTrain Loss: 0.758134\n",
            "Train Epoch: 4 [25600/60000(43%)]\tTrain Loss: 0.568974\n",
            "Train Epoch: 4 [32000/60000(53%)]\tTrain Loss: 0.462362\n",
            "Train Epoch: 4 [38400/60000(64%)]\tTrain Loss: 0.703329\n",
            "Train Epoch: 4 [44800/60000(75%)]\tTrain Loss: 0.424529\n",
            "Train Epoch: 4 [51200/60000(85%)]\tTrain Loss: 0.735220\n",
            "Train Epoch: 4 [57600/60000(96%)]\tTrain Loss: 0.779514\n",
            "\n",
            "[EPOCH : 4], \tTest Loss : 0.0174, \tTest Accuracy: 83.81 %\n",
            "\n",
            "Train Epoch: 5 [0/60000(0%)]\tTrain Loss: 0.580009\n",
            "Train Epoch: 5 [6400/60000(11%)]\tTrain Loss: 0.408730\n",
            "Train Epoch: 5 [12800/60000(21%)]\tTrain Loss: 0.495856\n",
            "Train Epoch: 5 [19200/60000(32%)]\tTrain Loss: 0.350545\n",
            "Train Epoch: 5 [25600/60000(43%)]\tTrain Loss: 0.355340\n",
            "Train Epoch: 5 [32000/60000(53%)]\tTrain Loss: 0.817110\n",
            "Train Epoch: 5 [38400/60000(64%)]\tTrain Loss: 0.644984\n",
            "Train Epoch: 5 [44800/60000(75%)]\tTrain Loss: 0.371966\n",
            "Train Epoch: 5 [51200/60000(85%)]\tTrain Loss: 0.261481\n",
            "Train Epoch: 5 [57600/60000(96%)]\tTrain Loss: 0.392695\n",
            "\n",
            "[EPOCH : 5], \tTest Loss : 0.0146, \tTest Accuracy: 86.21 %\n",
            "\n",
            "Train Epoch: 6 [0/60000(0%)]\tTrain Loss: 0.533299\n",
            "Train Epoch: 6 [6400/60000(11%)]\tTrain Loss: 0.370744\n",
            "Train Epoch: 6 [12800/60000(21%)]\tTrain Loss: 0.281917\n",
            "Train Epoch: 6 [19200/60000(32%)]\tTrain Loss: 0.439477\n",
            "Train Epoch: 6 [25600/60000(43%)]\tTrain Loss: 0.469163\n",
            "Train Epoch: 6 [32000/60000(53%)]\tTrain Loss: 0.389415\n",
            "Train Epoch: 6 [38400/60000(64%)]\tTrain Loss: 0.296221\n",
            "Train Epoch: 6 [44800/60000(75%)]\tTrain Loss: 0.667391\n",
            "Train Epoch: 6 [51200/60000(85%)]\tTrain Loss: 0.310428\n",
            "Train Epoch: 6 [57600/60000(96%)]\tTrain Loss: 0.445941\n",
            "\n",
            "[EPOCH : 6], \tTest Loss : 0.0131, \tTest Accuracy: 87.73 %\n",
            "\n",
            "Train Epoch: 7 [0/60000(0%)]\tTrain Loss: 0.266514\n",
            "Train Epoch: 7 [6400/60000(11%)]\tTrain Loss: 0.246626\n",
            "Train Epoch: 7 [12800/60000(21%)]\tTrain Loss: 0.530687\n",
            "Train Epoch: 7 [19200/60000(32%)]\tTrain Loss: 0.402855\n",
            "Train Epoch: 7 [25600/60000(43%)]\tTrain Loss: 0.596892\n",
            "Train Epoch: 7 [32000/60000(53%)]\tTrain Loss: 0.392350\n",
            "Train Epoch: 7 [38400/60000(64%)]\tTrain Loss: 0.952560\n",
            "Train Epoch: 7 [44800/60000(75%)]\tTrain Loss: 0.758429\n",
            "Train Epoch: 7 [51200/60000(85%)]\tTrain Loss: 0.280678\n",
            "Train Epoch: 7 [57600/60000(96%)]\tTrain Loss: 0.376901\n",
            "\n",
            "[EPOCH : 7], \tTest Loss : 0.0121, \tTest Accuracy: 88.76 %\n",
            "\n",
            "Train Epoch: 8 [0/60000(0%)]\tTrain Loss: 0.434029\n",
            "Train Epoch: 8 [6400/60000(11%)]\tTrain Loss: 0.329627\n",
            "Train Epoch: 8 [12800/60000(21%)]\tTrain Loss: 0.394834\n",
            "Train Epoch: 8 [19200/60000(32%)]\tTrain Loss: 0.180167\n",
            "Train Epoch: 8 [25600/60000(43%)]\tTrain Loss: 0.319667\n",
            "Train Epoch: 8 [32000/60000(53%)]\tTrain Loss: 0.299638\n",
            "Train Epoch: 8 [38400/60000(64%)]\tTrain Loss: 0.736151\n",
            "Train Epoch: 8 [44800/60000(75%)]\tTrain Loss: 0.529594\n",
            "Train Epoch: 8 [51200/60000(85%)]\tTrain Loss: 0.292177\n",
            "Train Epoch: 8 [57600/60000(96%)]\tTrain Loss: 0.431570\n",
            "\n",
            "[EPOCH : 8], \tTest Loss : 0.0115, \tTest Accuracy: 89.26 %\n",
            "\n",
            "Train Epoch: 9 [0/60000(0%)]\tTrain Loss: 0.577283\n",
            "Train Epoch: 9 [6400/60000(11%)]\tTrain Loss: 0.571263\n",
            "Train Epoch: 9 [12800/60000(21%)]\tTrain Loss: 0.446578\n",
            "Train Epoch: 9 [19200/60000(32%)]\tTrain Loss: 0.576577\n",
            "Train Epoch: 9 [25600/60000(43%)]\tTrain Loss: 0.278714\n",
            "Train Epoch: 9 [32000/60000(53%)]\tTrain Loss: 0.248720\n",
            "Train Epoch: 9 [38400/60000(64%)]\tTrain Loss: 0.509558\n",
            "Train Epoch: 9 [44800/60000(75%)]\tTrain Loss: 0.256302\n",
            "Train Epoch: 9 [51200/60000(85%)]\tTrain Loss: 0.704924\n",
            "Train Epoch: 9 [57600/60000(96%)]\tTrain Loss: 0.311076\n",
            "\n",
            "[EPOCH : 9], \tTest Loss : 0.0111, \tTest Accuracy: 89.81 %\n",
            "\n",
            "Train Epoch: 10 [0/60000(0%)]\tTrain Loss: 0.230490\n",
            "Train Epoch: 10 [6400/60000(11%)]\tTrain Loss: 0.084842\n",
            "Train Epoch: 10 [12800/60000(21%)]\tTrain Loss: 0.230016\n",
            "Train Epoch: 10 [19200/60000(32%)]\tTrain Loss: 0.516796\n",
            "Train Epoch: 10 [25600/60000(43%)]\tTrain Loss: 0.267827\n",
            "Train Epoch: 10 [32000/60000(53%)]\tTrain Loss: 0.424767\n",
            "Train Epoch: 10 [38400/60000(64%)]\tTrain Loss: 0.534613\n",
            "Train Epoch: 10 [44800/60000(75%)]\tTrain Loss: 0.373207\n",
            "Train Epoch: 10 [51200/60000(85%)]\tTrain Loss: 0.353334\n",
            "Train Epoch: 10 [57600/60000(96%)]\tTrain Loss: 0.242714\n",
            "\n",
            "[EPOCH : 10], \tTest Loss : 0.0106, \tTest Accuracy: 90.21 %\n",
            "\n"
          ]
        }
      ]
    },
    {
      "cell_type": "code",
      "metadata": {
        "id": "gDJYEdd3RRQ4"
      },
      "source": [
        ""
      ],
      "execution_count": null,
      "outputs": []
    },
    {
      "cell_type": "code",
      "metadata": {
        "id": "qVZ8HfbZRPee"
      },
      "source": [
        ""
      ],
      "execution_count": null,
      "outputs": []
    },
    {
      "cell_type": "code",
      "metadata": {
        "id": "xaSG51eYPm46"
      },
      "source": [
        ""
      ],
      "execution_count": null,
      "outputs": []
    }
  ]
}
