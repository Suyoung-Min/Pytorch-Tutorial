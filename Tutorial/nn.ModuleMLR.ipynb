{
  "nbformat": 4,
  "nbformat_minor": 0,
  "metadata": {
    "colab": {
      "name": "Untitled8.ipynb",
      "provenance": [],
      "collapsed_sections": [],
      "authorship_tag": "ABX9TyOnixO+ozdLcWIBOPRbR1qJ",
      "include_colab_link": true
    },
    "kernelspec": {
      "name": "python3",
      "display_name": "Python 3"
    },
    "language_info": {
      "name": "python"
    }
  },
  "cells": [
    {
      "cell_type": "markdown",
      "metadata": {
        "id": "view-in-github",
        "colab_type": "text"
      },
      "source": [
        "<a href=\"https://colab.research.google.com/github/Suyoung-Min/Pytorch-Tutorial/blob/main/Tutorial/nn.ModuleMLR.ipynb\" target=\"_parent\"><img src=\"https://colab.research.google.com/assets/colab-badge.svg\" alt=\"Open In Colab\"/></a>"
      ]
    },
    {
      "cell_type": "code",
      "source": [
        "import torch\n",
        "import torch.nn as nn\n",
        "#model = nn.Linear(input_dim, output_dim)\n",
        "import torch.nn.functional as F\n",
        "#cost = F.mse_loss(prediction, y_train)\n"
      ],
      "metadata": {
        "id": "_sryUbNxgZf9"
      },
      "execution_count": 4,
      "outputs": []
    },
    {
      "cell_type": "code",
      "source": [
        "x_train = torch.FloatTensor([[73, 80, 75],\n",
        "                             [93, 88, 93],\n",
        "                             [89, 91, 90],\n",
        "                             [96, 98, 100],\n",
        "                             [73, 66, 70]])\n",
        "y_train = torch.FloatTensor([[152], [185], [180], [196], [142]])"
      ],
      "metadata": {
        "id": "NJ4EUwBBh4_p"
      },
      "execution_count": 11,
      "outputs": []
    },
    {
      "cell_type": "code",
      "source": [
        "model = nn.Linear(3,1)"
      ],
      "metadata": {
        "id": "ArGdRXgQh7B1"
      },
      "execution_count": 12,
      "outputs": []
    },
    {
      "cell_type": "code",
      "source": [
        "print(list(model.parameters()))"
      ],
      "metadata": {
        "colab": {
          "base_uri": "https://localhost:8080/"
        },
        "id": "5PZHx9CtiNGR",
        "outputId": "3dc979b5-a9be-4f81-f1e4-ca835e58d3de"
      },
      "execution_count": 13,
      "outputs": [
        {
          "output_type": "stream",
          "name": "stdout",
          "text": [
            "[Parameter containing:\n",
            "tensor([[-0.3122,  0.1610,  0.0932]], requires_grad=True), Parameter containing:\n",
            "tensor([-0.1670], requires_grad=True)]\n"
          ]
        }
      ]
    },
    {
      "cell_type": "code",
      "source": [
        "optimizer = torch.optim.SGD(model.parameters(), lr = 1e-5)\n",
        "\n",
        "nb_epochs = 3000\n",
        "for epoch in range(nb_epochs+1):\n",
        "  prediction = model(x_train)\n",
        "\n",
        "  cost = F.mse_loss(prediction,y_train)\n",
        "\n",
        "  optimizer.zero_grad()\n",
        "  cost.backward()\n",
        "  optimizer.step()\n",
        "\n",
        "  if epoch % 100 == 0:\n",
        "    # 100번마다 로그 출력\n",
        "      print('Epoch {:4d}/{} Cost: {:.6f}'.format(\n",
        "          epoch, nb_epochs, cost.item()\n",
        "      ))"
      ],
      "metadata": {
        "colab": {
          "base_uri": "https://localhost:8080/"
        },
        "id": "v4_JZM5OiPux",
        "outputId": "d77043ff-b41f-40a8-a122-88e79f9ab5f2"
      },
      "execution_count": 15,
      "outputs": [
        {
          "output_type": "stream",
          "name": "stdout",
          "text": [
            "Epoch    0/3000 Cost: 2.262633\n",
            "Epoch  100/3000 Cost: 2.169984\n",
            "Epoch  200/3000 Cost: 2.082118\n",
            "Epoch  300/3000 Cost: 1.998820\n",
            "Epoch  400/3000 Cost: 1.919815\n",
            "Epoch  500/3000 Cost: 1.844901\n",
            "Epoch  600/3000 Cost: 1.773868\n",
            "Epoch  700/3000 Cost: 1.706465\n",
            "Epoch  800/3000 Cost: 1.642563\n",
            "Epoch  900/3000 Cost: 1.581950\n",
            "Epoch 1000/3000 Cost: 1.524443\n",
            "Epoch 1100/3000 Cost: 1.469883\n",
            "Epoch 1200/3000 Cost: 1.418138\n",
            "Epoch 1300/3000 Cost: 1.369021\n",
            "Epoch 1400/3000 Cost: 1.322424\n",
            "Epoch 1500/3000 Cost: 1.278201\n",
            "Epoch 1600/3000 Cost: 1.236229\n",
            "Epoch 1700/3000 Cost: 1.196397\n",
            "Epoch 1800/3000 Cost: 1.158597\n",
            "Epoch 1900/3000 Cost: 1.122691\n",
            "Epoch 2000/3000 Cost: 1.088611\n",
            "Epoch 2100/3000 Cost: 1.056241\n",
            "Epoch 2200/3000 Cost: 1.025510\n",
            "Epoch 2300/3000 Cost: 0.996316\n",
            "Epoch 2400/3000 Cost: 0.968592\n",
            "Epoch 2500/3000 Cost: 0.942248\n",
            "Epoch 2600/3000 Cost: 0.917233\n",
            "Epoch 2700/3000 Cost: 0.893439\n",
            "Epoch 2800/3000 Cost: 0.870834\n",
            "Epoch 2900/3000 Cost: 0.849352\n",
            "Epoch 3000/3000 Cost: 0.828917\n"
          ]
        }
      ]
    },
    {
      "cell_type": "code",
      "source": [
        "ex_x = torch.FloatTensor([[73, 80, 75],\n",
        "                          [1,2,3]])\n",
        "print(model(ex_x))"
      ],
      "metadata": {
        "colab": {
          "base_uri": "https://localhost:8080/"
        },
        "id": "qnI9H-Vli6um",
        "outputId": "a0a8466d-b7b9-46c6-8242-32d195f20725"
      },
      "execution_count": 19,
      "outputs": [
        {
          "output_type": "stream",
          "name": "stdout",
          "text": [
            "tensor([[151.8530],\n",
            "        [  3.9887]], grad_fn=<AddmmBackward0>)\n"
          ]
        }
      ]
    },
    {
      "cell_type": "code",
      "source": [
        "print(list(model.parameters()))"
      ],
      "metadata": {
        "colab": {
          "base_uri": "https://localhost:8080/"
        },
        "id": "H000kA28jWMI",
        "outputId": "074c849a-3ed4-4413-cfe6-a2d856c0516d"
      },
      "execution_count": 20,
      "outputs": [
        {
          "output_type": "stream",
          "name": "stdout",
          "text": [
            "[Parameter containing:\n",
            "tensor([[0.6906, 0.5136, 0.8066]], requires_grad=True), Parameter containing:\n",
            "tensor([-0.1490], requires_grad=True)]\n"
          ]
        }
      ]
    }
  ]
}