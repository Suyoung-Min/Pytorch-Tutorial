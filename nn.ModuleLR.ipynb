{
  "nbformat": 4,
  "nbformat_minor": 0,
  "metadata": {
    "colab": {
      "name": "Untitled8.ipynb",
      "provenance": [],
      "collapsed_sections": [],
      "authorship_tag": "ABX9TyMNk8GbPp+oIMB+i/D82mo6",
      "include_colab_link": true
    },
    "kernelspec": {
      "name": "python3",
      "display_name": "Python 3"
    },
    "language_info": {
      "name": "python"
    }
  },
  "cells": [
    {
      "cell_type": "markdown",
      "metadata": {
        "id": "view-in-github",
        "colab_type": "text"
      },
      "source": [
        "<a href=\"https://colab.research.google.com/github/Suyoung-Min/Pytorch-Tutorial/blob/main/Tutorial/nn.ModuleLR.ipynb\" target=\"_parent\"><img src=\"https://colab.research.google.com/assets/colab-badge.svg\" alt=\"Open In Colab\"/></a>"
      ]
    },
    {
      "cell_type": "code",
      "source": [
        "import torch\n",
        "import torch.nn as nn\n",
        "#model = nn.Linear(input_dim, output_dim)\n",
        "import torch.nn.functional as F\n",
        "#cost = F.mse_loss(prediction, y_train)\n"
      ],
      "metadata": {
        "id": "_sryUbNxgZf9"
      },
      "execution_count": 4,
      "outputs": []
    },
    {
      "cell_type": "code",
      "source": [
        "x_train = torch.FloatTensor([[1],[2],[3]])\n",
        "y_train = torch.FloatTensor([[2],[4],[6]])"
      ],
      "metadata": {
        "id": "4r_K0O93gmhG"
      },
      "execution_count": 5,
      "outputs": []
    },
    {
      "cell_type": "code",
      "source": [
        "model = nn.Linear(1,1)\n",
        "\n",
        "print(list(model.parameters()))"
      ],
      "metadata": {
        "colab": {
          "base_uri": "https://localhost:8080/"
        },
        "id": "caOKdjiFgxAO",
        "outputId": "f1d9524e-d314-4954-b143-c8a96cca57e0"
      },
      "execution_count": 6,
      "outputs": [
        {
          "output_type": "stream",
          "name": "stdout",
          "text": [
            "[Parameter containing:\n",
            "tensor([[-0.6932]], requires_grad=True), Parameter containing:\n",
            "tensor([0.7269], requires_grad=True)]\n"
          ]
        }
      ]
    },
    {
      "cell_type": "code",
      "source": [
        "optimizer = torch.optim.SGD(model.parameters(), lr=0.01)"
      ],
      "metadata": {
        "id": "ysaexR_Tg8de"
      },
      "execution_count": 7,
      "outputs": []
    },
    {
      "cell_type": "code",
      "source": [
        "nb_epochs = 2000\n",
        "for epoch in range(nb_epochs+1):\n",
        "\n",
        "  prediction = model(x_train)\n",
        "\n",
        "  cost = F.mse_loss(prediction, y_train)\n",
        "\n",
        "  optimizer.zero_grad()\n",
        "  cost.backward()\n",
        "  optimizer.step()\n",
        "\n",
        "  if epoch % 100 == 0:\n",
        "    # 100번마다 로그 출력\n",
        "      print('Epoch {:4d}/{} Cost: {:.6f}'.format(\n",
        "          epoch, nb_epochs, cost.item()\n",
        "      ))"
      ],
      "metadata": {
        "colab": {
          "base_uri": "https://localhost:8080/"
        },
        "id": "HnQzakoKhGii",
        "outputId": "ba4dbaea-2eeb-49cc-be6f-06986439af62"
      },
      "execution_count": 8,
      "outputs": [
        {
          "output_type": "stream",
          "name": "stdout",
          "text": [
            "Epoch    0/2000 Cost: 26.546532\n",
            "Epoch  100/2000 Cost: 0.227431\n",
            "Epoch  200/2000 Cost: 0.140538\n",
            "Epoch  300/2000 Cost: 0.086844\n",
            "Epoch  400/2000 Cost: 0.053664\n",
            "Epoch  500/2000 Cost: 0.033161\n",
            "Epoch  600/2000 Cost: 0.020492\n",
            "Epoch  700/2000 Cost: 0.012663\n",
            "Epoch  800/2000 Cost: 0.007825\n",
            "Epoch  900/2000 Cost: 0.004835\n",
            "Epoch 1000/2000 Cost: 0.002988\n",
            "Epoch 1100/2000 Cost: 0.001846\n",
            "Epoch 1200/2000 Cost: 0.001141\n",
            "Epoch 1300/2000 Cost: 0.000705\n",
            "Epoch 1400/2000 Cost: 0.000436\n",
            "Epoch 1500/2000 Cost: 0.000269\n",
            "Epoch 1600/2000 Cost: 0.000166\n",
            "Epoch 1700/2000 Cost: 0.000103\n",
            "Epoch 1800/2000 Cost: 0.000064\n",
            "Epoch 1900/2000 Cost: 0.000039\n",
            "Epoch 2000/2000 Cost: 0.000024\n"
          ]
        }
      ]
    },
    {
      "cell_type": "code",
      "source": [
        "new_var = torch.FloatTensor([[4.0]])\n",
        "\n",
        "pred_y = model(new_var)\n",
        "print(f\"4의 예측값: {pred_y}\")"
      ],
      "metadata": {
        "colab": {
          "base_uri": "https://localhost:8080/"
        },
        "id": "krTYBB1HhX3h",
        "outputId": "4e3c40ce-b4d2-49c8-e776-62865f9262ba"
      },
      "execution_count": 9,
      "outputs": [
        {
          "output_type": "stream",
          "name": "stdout",
          "text": [
            "4의 예측값: tensor([[7.9901]], grad_fn=<AddmmBackward0>)\n"
          ]
        }
      ]
    },
    {
      "cell_type": "code",
      "source": [
        "print(list(model.parameters()))"
      ],
      "metadata": {
        "colab": {
          "base_uri": "https://localhost:8080/"
        },
        "id": "z7mNFDMlhnSz",
        "outputId": "d209857f-bf07-4485-edce-4b714841e9db"
      },
      "execution_count": 10,
      "outputs": [
        {
          "output_type": "stream",
          "name": "stdout",
          "text": [
            "[Parameter containing:\n",
            "tensor([[1.9943]], requires_grad=True), Parameter containing:\n",
            "tensor([0.0130], requires_grad=True)]\n"
          ]
        }
      ]
    }
  ]
}
